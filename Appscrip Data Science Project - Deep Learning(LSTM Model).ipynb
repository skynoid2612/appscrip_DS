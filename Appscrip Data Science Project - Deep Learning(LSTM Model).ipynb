{
 "cells": [
  {
   "cell_type": "markdown",
   "metadata": {},
   "source": [
    "# AppScrip\n",
    "### Data science Assignment - 2\n",
    "#### Type of Machine learning Problem\n",
    "There are multiple Categories of news that need to classify => Multi class classification problem"
   ]
  },
  {
   "cell_type": "markdown",
   "metadata": {},
   "source": [
    "#### Machine Learning Objectives and Constraints:\n",
    "- __Objective__- Predict the probability of each data-point belonging to the respective categories\n",
    "- __Constraints__- \n",
    "1. Class probabilities.\n",
    "2. Penalize the errors in class probabilites"
   ]
  },
  {
   "cell_type": "markdown",
   "metadata": {},
   "source": [
    "### Train and test Dataset\n",
    "Split the dataset randomly into three parts train, cross validation and test with 64%, 16%, 20% of data respectively"
   ]
  },
  {
   "cell_type": "markdown",
   "metadata": {},
   "source": [
    "## Exploratory Data Analysis"
   ]
  },
  {
   "cell_type": "code",
   "execution_count": 1,
   "metadata": {},
   "outputs": [
    {
     "name": "stderr",
     "output_type": "stream",
     "text": [
      "Using TensorFlow backend.\n",
      "C:\\ProgramData\\Anaconda3\\lib\\site-packages\\tensorflow\\python\\framework\\dtypes.py:516: FutureWarning: Passing (type, 1) or '1type' as a synonym of type is deprecated; in a future version of numpy, it will be understood as (type, (1,)) / '(1,)type'.\n",
      "  _np_qint8 = np.dtype([(\"qint8\", np.int8, 1)])\n",
      "C:\\ProgramData\\Anaconda3\\lib\\site-packages\\tensorflow\\python\\framework\\dtypes.py:517: FutureWarning: Passing (type, 1) or '1type' as a synonym of type is deprecated; in a future version of numpy, it will be understood as (type, (1,)) / '(1,)type'.\n",
      "  _np_quint8 = np.dtype([(\"quint8\", np.uint8, 1)])\n",
      "C:\\ProgramData\\Anaconda3\\lib\\site-packages\\tensorflow\\python\\framework\\dtypes.py:518: FutureWarning: Passing (type, 1) or '1type' as a synonym of type is deprecated; in a future version of numpy, it will be understood as (type, (1,)) / '(1,)type'.\n",
      "  _np_qint16 = np.dtype([(\"qint16\", np.int16, 1)])\n",
      "C:\\ProgramData\\Anaconda3\\lib\\site-packages\\tensorflow\\python\\framework\\dtypes.py:519: FutureWarning: Passing (type, 1) or '1type' as a synonym of type is deprecated; in a future version of numpy, it will be understood as (type, (1,)) / '(1,)type'.\n",
      "  _np_quint16 = np.dtype([(\"quint16\", np.uint16, 1)])\n",
      "C:\\ProgramData\\Anaconda3\\lib\\site-packages\\tensorflow\\python\\framework\\dtypes.py:520: FutureWarning: Passing (type, 1) or '1type' as a synonym of type is deprecated; in a future version of numpy, it will be understood as (type, (1,)) / '(1,)type'.\n",
      "  _np_qint32 = np.dtype([(\"qint32\", np.int32, 1)])\n",
      "C:\\ProgramData\\Anaconda3\\lib\\site-packages\\tensorflow\\python\\framework\\dtypes.py:525: FutureWarning: Passing (type, 1) or '1type' as a synonym of type is deprecated; in a future version of numpy, it will be understood as (type, (1,)) / '(1,)type'.\n",
      "  np_resource = np.dtype([(\"resource\", np.ubyte, 1)])\n",
      "C:\\ProgramData\\Anaconda3\\lib\\site-packages\\tensorboard\\compat\\tensorflow_stub\\dtypes.py:541: FutureWarning: Passing (type, 1) or '1type' as a synonym of type is deprecated; in a future version of numpy, it will be understood as (type, (1,)) / '(1,)type'.\n",
      "  _np_qint8 = np.dtype([(\"qint8\", np.int8, 1)])\n",
      "C:\\ProgramData\\Anaconda3\\lib\\site-packages\\tensorboard\\compat\\tensorflow_stub\\dtypes.py:542: FutureWarning: Passing (type, 1) or '1type' as a synonym of type is deprecated; in a future version of numpy, it will be understood as (type, (1,)) / '(1,)type'.\n",
      "  _np_quint8 = np.dtype([(\"quint8\", np.uint8, 1)])\n",
      "C:\\ProgramData\\Anaconda3\\lib\\site-packages\\tensorboard\\compat\\tensorflow_stub\\dtypes.py:543: FutureWarning: Passing (type, 1) or '1type' as a synonym of type is deprecated; in a future version of numpy, it will be understood as (type, (1,)) / '(1,)type'.\n",
      "  _np_qint16 = np.dtype([(\"qint16\", np.int16, 1)])\n",
      "C:\\ProgramData\\Anaconda3\\lib\\site-packages\\tensorboard\\compat\\tensorflow_stub\\dtypes.py:544: FutureWarning: Passing (type, 1) or '1type' as a synonym of type is deprecated; in a future version of numpy, it will be understood as (type, (1,)) / '(1,)type'.\n",
      "  _np_quint16 = np.dtype([(\"quint16\", np.uint16, 1)])\n",
      "C:\\ProgramData\\Anaconda3\\lib\\site-packages\\tensorboard\\compat\\tensorflow_stub\\dtypes.py:545: FutureWarning: Passing (type, 1) or '1type' as a synonym of type is deprecated; in a future version of numpy, it will be understood as (type, (1,)) / '(1,)type'.\n",
      "  _np_qint32 = np.dtype([(\"qint32\", np.int32, 1)])\n",
      "C:\\ProgramData\\Anaconda3\\lib\\site-packages\\tensorboard\\compat\\tensorflow_stub\\dtypes.py:550: FutureWarning: Passing (type, 1) or '1type' as a synonym of type is deprecated; in a future version of numpy, it will be understood as (type, (1,)) / '(1,)type'.\n",
      "  np_resource = np.dtype([(\"resource\", np.ubyte, 1)])\n"
     ]
    }
   ],
   "source": [
    "import os\n",
    "os.chdir('D:\\\\Projects\\\\AppScrip')\n",
    "import numpy as np\n",
    "import pandas as pd\n",
    "import matplotlib.pyplot as plt\n",
    "import seaborn as sns\n",
    "import re\n",
    "import nltk\n",
    "from nltk.corpus import stopwords as Stopwords\n",
    "from wordcloud import WordCloud\n",
    "import keras\n",
    "from keras.preprocessing.text import Tokenizer\n",
    "from keras.preprocessing.sequence import pad_sequences\n",
    "from keras.preprocessing import sequence\n",
    "from keras.models import Sequential\n",
    "from keras.layers import Dense , Embedding, LSTM, SpatialDropout1D\n",
    "from keras.callbacks import EarlyStopping\n",
    "from sklearn.metrics import confusion_matrix"
   ]
  },
  {
   "cell_type": "code",
   "execution_count": 2,
   "metadata": {},
   "outputs": [],
   "source": [
    "#probability density function and cumulative density function\n",
    "def pdf_cdf(data,col):\n",
    "    print(data[col].describe())\n",
    "    unique_var = data[col].value_counts()\n",
    "    s = sum(unique_var.values)\n",
    "    h = unique_var.values/s\n",
    "    c = np.cumsum(h)\n",
    "    plt.figure(1)\n",
    "    plt.figure(figsize=(12,8))\n",
    "    plt.subplot(221)\n",
    "    plt.plot(h,label = 'Histogram')\n",
    "    #plt.xlabel('Index numbers')\n",
    "    plt.ylabel('Number of Occurances')\n",
    "    plt.grid()\n",
    "    plt.legend()\n",
    "    plt.subplot(222)\n",
    "    plt.plot(c,label = 'Cumulative distribution')\n",
    "    plt.grid()\n",
    "    plt.legend()\n",
    "    plt.show()"
   ]
  },
  {
   "cell_type": "code",
   "execution_count": 3,
   "metadata": {},
   "outputs": [
    {
     "name": "stdout",
     "output_type": "stream",
     "text": [
      "<class 'pandas.core.frame.DataFrame'>\n",
      "RangeIndex: 100000 entries, 0 to 99999\n",
      "Data columns (total 3 columns):\n",
      "title          100000 non-null object\n",
      "description    95700 non-null object\n",
      "category       100000 non-null object\n",
      "dtypes: object(3)\n",
      "memory usage: 2.3+ MB\n"
     ]
    }
   ],
   "source": [
    "df = pd.read_csv('newsorg.csv', header = 0)\n",
    "df.info()"
   ]
  },
  {
   "cell_type": "code",
   "execution_count": 4,
   "metadata": {},
   "outputs": [
    {
     "data": {
      "text/html": [
       "<div>\n",
       "<style scoped>\n",
       "    .dataframe tbody tr th:only-of-type {\n",
       "        vertical-align: middle;\n",
       "    }\n",
       "\n",
       "    .dataframe tbody tr th {\n",
       "        vertical-align: top;\n",
       "    }\n",
       "\n",
       "    .dataframe thead th {\n",
       "        text-align: right;\n",
       "    }\n",
       "</style>\n",
       "<table border=\"1\" class=\"dataframe\">\n",
       "  <thead>\n",
       "    <tr style=\"text-align: right;\">\n",
       "      <th></th>\n",
       "      <th>title</th>\n",
       "      <th>description</th>\n",
       "      <th>category</th>\n",
       "    </tr>\n",
       "  </thead>\n",
       "  <tbody>\n",
       "    <tr>\n",
       "      <th>0</th>\n",
       "      <td>Kiara Advani is a vision in white plunging nec...</td>\n",
       "      <td>Kiara Advani's fashion game has been on point ...</td>\n",
       "      <td>entertainment</td>\n",
       "    </tr>\n",
       "    <tr>\n",
       "      <th>1</th>\n",
       "      <td>Pankhuri Awasthy on doing Yeh Rishta Kya Kehla...</td>\n",
       "      <td>Pankhuri Awasthy is all set to make a comeback...</td>\n",
       "      <td>entertainment</td>\n",
       "    </tr>\n",
       "    <tr>\n",
       "      <th>2</th>\n",
       "      <td>Posters for Ekta Kapoor's Mangalyaan Series Do...</td>\n",
       "      <td>One poster shows the show’s protagonists flank...</td>\n",
       "      <td>entertainment</td>\n",
       "    </tr>\n",
       "    <tr>\n",
       "      <th>3</th>\n",
       "      <td>Sonakshi Sinha’s new film gets a title, Khanda...</td>\n",
       "      <td>Directed by Shilpi Dasgupta, Sonakshi Sinha’s ...</td>\n",
       "      <td>entertainment</td>\n",
       "    </tr>\n",
       "    <tr>\n",
       "      <th>4</th>\n",
       "      <td>Is Samantha Doing Another Cameo For Akkinenis?...</td>\n",
       "      <td>Already Samantha has acted in Nagarjuna's Raju...</td>\n",
       "      <td>entertainment</td>\n",
       "    </tr>\n",
       "  </tbody>\n",
       "</table>\n",
       "</div>"
      ],
      "text/plain": [
       "                                               title  \\\n",
       "0  Kiara Advani is a vision in white plunging nec...   \n",
       "1  Pankhuri Awasthy on doing Yeh Rishta Kya Kehla...   \n",
       "2  Posters for Ekta Kapoor's Mangalyaan Series Do...   \n",
       "3  Sonakshi Sinha’s new film gets a title, Khanda...   \n",
       "4  Is Samantha Doing Another Cameo For Akkinenis?...   \n",
       "\n",
       "                                         description       category  \n",
       "0  Kiara Advani's fashion game has been on point ...  entertainment  \n",
       "1  Pankhuri Awasthy is all set to make a comeback...  entertainment  \n",
       "2  One poster shows the show’s protagonists flank...  entertainment  \n",
       "3  Directed by Shilpi Dasgupta, Sonakshi Sinha’s ...  entertainment  \n",
       "4  Already Samantha has acted in Nagarjuna's Raju...  entertainment  "
      ]
     },
     "execution_count": 4,
     "metadata": {},
     "output_type": "execute_result"
    }
   ],
   "source": [
    "df.head()"
   ]
  },
  {
   "cell_type": "code",
   "execution_count": 5,
   "metadata": {},
   "outputs": [
    {
     "data": {
      "text/plain": [
       "title          0.000\n",
       "description    0.043\n",
       "category       0.000\n",
       "dtype: float64"
      ]
     },
     "execution_count": 5,
     "metadata": {},
     "output_type": "execute_result"
    }
   ],
   "source": [
    "#Checking the missing value\n",
    "df.isna().sum()/df.shape[0]"
   ]
  },
  {
   "cell_type": "code",
   "execution_count": 6,
   "metadata": {},
   "outputs": [],
   "source": [
    "df = df.dropna(axis=0, how = 'any')"
   ]
  },
  {
   "cell_type": "code",
   "execution_count": 7,
   "metadata": {},
   "outputs": [
    {
     "data": {
      "image/png": "[encoded data removed]",
      "text/plain": [
       "<Figure size 1080x216 with 1 Axes>"
      ]
     },
     "metadata": {
      "needs_background": "light"
     },
     "output_type": "display_data"
    }
   ],
   "source": [
    "total = len(df)\n",
    "plt.figure(figsize=(15,3))\n",
    "ax = sns.countplot(x = 'category', data = df)\n",
    "for p in ax.patches:\n",
    "    ax.annotate('{:.1f}%'.format(100*p.get_height()/total),(p.get_x()+0.1, p.get_height()+5))\n",
    "ax.yaxis.set_ticks(np.linspace(0,total,11))   \n",
    "ax.set_yticklabels(map('{:.1f}%'.format, 100*ax.yaxis.get_majorticklocs()/total))\n",
    "plt.show()"
   ]
  },
  {
   "cell_type": "code",
   "execution_count": 8,
   "metadata": {},
   "outputs": [],
   "source": [
    "category_list = df.category.unique()\n",
    "category_encode = {}\n",
    "for i in range(len(category_list)):\n",
    "    category_encode[category_list[i]] = i\n",
    "df.category = df.category.replace(category_encode)"
   ]
  },
  {
   "cell_type": "code",
   "execution_count": null,
   "metadata": {},
   "outputs": [],
   "source": [
    "category_encode2 = {{'entertainment': 0,'business': 1,'general': 2,'health': 3,\n",
    "                     'science': 4,'sports': 5,'technology': 6,'automotive': 7,\n",
    "                     'ent_regional': 8,'ent_tv': 9,'gaming': 10,'national': 11,\n",
    "                     'international': 12}}\n"
   ]
  },
  {
   "cell_type": "code",
   "execution_count": 9,
   "metadata": {},
   "outputs": [],
   "source": [
    "symbols = ['!', '\"', '#', '$', '%', '(', ')', '*', '+', ',',\n",
    "           '-', '.', '/', ':', ';', '<', '=', '>', '?', '@', '[',\n",
    "           '\\\\', ']', '^', '_', '`', '{', '|', '}', '~','&',\"'s\"]\n",
    "stopword = list(Stopwords.words('english'))\n",
    "\n",
    "def text_cleaning(text):\n",
    "    \"\"\"\n",
    "    text: enter the text/string\n",
    "    returns: modified text/clean text\n",
    "    \"\"\"\n",
    "    text = str(text)\n",
    "    text =text.lower()\n",
    "    for symbol in symbols: text = text.replace(symbol,'') # Replacing all symbols\n",
    "    text = text.replace('  ', ' ')\n",
    "    text = ' '.join(word for word in text.split() if word not in stopword and word.isalpha()==True and len(word)>2)\n",
    "    return text"
   ]
  },
  {
   "cell_type": "code",
   "execution_count": 10,
   "metadata": {},
   "outputs": [],
   "source": [
    "df['new_title'] = df['title'].astype(str)\n",
    "df.new_title = df.new_title.apply(text_cleaning)"
   ]
  },
  {
   "cell_type": "code",
   "execution_count": 11,
   "metadata": {},
   "outputs": [],
   "source": [
    "def word_count(text):\n",
    "    length = len(str(text).split(' '))\n",
    "    return length"
   ]
  },
  {
   "cell_type": "markdown",
   "metadata": {},
   "source": [
    "Checking the frequency of words"
   ]
  },
  {
   "cell_type": "code",
   "execution_count": 12,
   "metadata": {},
   "outputs": [],
   "source": [
    "#####Used to check the frequency of words in title data set#####\n",
    "# all_title = ' '.join(df.new_title)\n",
    "# title_word = nltk.word_tokenize(all_title)\n",
    "# fdist_title = nltk.FreqDist(title_word)\n",
    "# title_freq = pd.DataFrame.from_dict(fdist_title, orient='index')\n",
    "# title_freq=  title_freq.reset_index()\n",
    "# title_freq.columns = ['word','freq']\n",
    "# title_freq = title_freq.sort_values(by = ['freq'], ascending=False)\n",
    "# pdf_cdf(word_freq.head(10000),'freq')"
   ]
  },
  {
   "cell_type": "code",
   "execution_count": 13,
   "metadata": {},
   "outputs": [
    {
     "name": "stdout",
     "output_type": "stream",
     "text": [
      "Found 41900 unique token\n"
     ]
    }
   ],
   "source": [
    "max_no_words = 10000\n",
    "max_seq_len = 50\n",
    "embedding = 100\n",
    "\n",
    "title_tokenizer = Tokenizer(num_words=max_no_words,filters='!\"#$%&()*+,-./:;<=>?@[\\]^_`{|}~', lower=True)\n",
    "title_tokenizer.fit_on_texts(df.new_title.values)\n",
    "word_index = title_tokenizer.word_index\n",
    "print('Found %s unique token'%len(word_index))"
   ]
  },
  {
   "cell_type": "code",
   "execution_count": 16,
   "metadata": {},
   "outputs": [
    {
     "name": "stdout",
     "output_type": "stream",
     "text": [
      "Shape of data tensor: (95700, 50)\n"
     ]
    }
   ],
   "source": [
    "x_title = title_tokenizer.texts_to_sequences(df['new_title'].values)\n",
    "x_title = pad_sequences(x_title, maxlen=max_seq_len)\n",
    "print('Shape of data tensor:', x_title.shape)"
   ]
  },
  {
   "cell_type": "code",
   "execution_count": null,
   "metadata": {},
   "outputs": [],
   "source": [
    "# # for model1\n",
    "# y = pd.get_dummies(df['category']).values\n",
    "# print('Shape:',y.shape)"
   ]
  },
  {
   "cell_type": "code",
   "execution_count": null,
   "metadata": {},
   "outputs": [],
   "source": [
    "# from sklearn.model_selection import train_test_split\n",
    "# X_train, X_test, Y_train, Y_test = train_test_split(x_title,y, test_size = 0.20, \n",
    "#                                                     random_state = 42, stratify = y)\n",
    "# print('Train:',X_train.shape,Y_train.shape)\n",
    "# print('Test:',X_test.shape,Y_test.shape)"
   ]
  },
  {
   "cell_type": "code",
   "execution_count": null,
   "metadata": {},
   "outputs": [],
   "source": [
    "# model = Sequential()\n",
    "# model.add(Embedding(max_no_words, embedding, input_length=x.shape[1]))\n",
    "# model.add(SpatialDropout1D(0.2))\n",
    "# model.add(LSTM(100, dropout=0.2, recurrent_dropout=0.2))\n",
    "# model.add(Dense(13, activation='softmax'))\n",
    "# model.compile(loss='categorical_crossentropy', optimizer='adam', metrics=['accuracy'])\n",
    "\n",
    "# epochs = 5\n",
    "# batch_size = 64\n",
    "\n",
    "# history = model.fit(X_train, Y_train, epochs=epochs, batch_size=batch_size,validation_split=0.1,callbacks=[EarlyStopping(monitor='val_loss', patience=3, min_delta=0.0001)])\n"
   ]
  },
  {
   "cell_type": "code",
   "execution_count": null,
   "metadata": {},
   "outputs": [],
   "source": [
    "# accr = model.evaluate(X_test,Y_test)\n",
    "# print('Test set\\n  Loss: {:0.3f}\\n  Accuracy: {:0.3f}'.format(accr[0],accr[1]))"
   ]
  },
  {
   "cell_type": "markdown",
   "metadata": {},
   "source": [
    "#### By using only the title of an news we got around 90% of accuracy in training and crossvalidation stage <br> and got an accuracy of 85% in test stage"
   ]
  },
  {
   "cell_type": "code",
   "execution_count": null,
   "metadata": {},
   "outputs": [],
   "source": [
    "# plt.figure(1)\n",
    "# plt.figure(figsize=(10,5))\n",
    "# plt.subplot(221)\n",
    "# plt.title('Loss')\n",
    "# plt.plot(history.history['loss'], label='train')\n",
    "# plt.plot(history.history['val_loss'], label='test')\n",
    "# plt.legend()\n",
    "# plt.subplot(222)\n",
    "\n",
    "# plt.title('Accuracy')\n",
    "# plt.plot(history.history['acc'], label='train')\n",
    "# plt.plot(history.history['val_acc'], label='test')\n",
    "# plt.legend()\n",
    "# plt.show();"
   ]
  },
  {
   "cell_type": "markdown",
   "metadata": {},
   "source": [
    "#### Model seems to overfit on the respective dataset and the accuracy of training set increase with each epoch <br> the accuracy of test set decreasing"
   ]
  },
  {
   "cell_type": "code",
   "execution_count": null,
   "metadata": {},
   "outputs": [],
   "source": [
    "# model_json = model.to_json()\n",
    "# with open(\"model.json\", \"w\") as json_file:\n",
    "#     json_file.write(model_json)\n",
    "# # serialize weights to HDF5\n",
    "# model.save_weights(\"model.h5\")\n",
    "# print(\"Saved model to disk\")"
   ]
  },
  {
   "cell_type": "code",
   "execution_count": null,
   "metadata": {},
   "outputs": [],
   "source": [
    "from keras.models import model_from_json"
   ]
  },
  {
   "cell_type": "code",
   "execution_count": null,
   "metadata": {},
   "outputs": [],
   "source": [
    "json_file = open('model.json', 'r')\n",
    "loaded_model_json = json_file.read()\n",
    "json_file.close()\n",
    "loaded_model = model_from_json(loaded_model_json)\n",
    "# load weights into new model\n",
    "loaded_model.load_weights(\"model.h5\")\n",
    "print(\"Loaded model from disk\")"
   ]
  },
  {
   "cell_type": "code",
   "execution_count": null,
   "metadata": {},
   "outputs": [],
   "source": [
    "# predict = loaded_model.predict_classes(X_test)"
   ]
  },
  {
   "cell_type": "code",
   "execution_count": null,
   "metadata": {},
   "outputs": [],
   "source": [
    "# y_true = np.argmax(Y_test, axis =1)"
   ]
  },
  {
   "cell_type": "code",
   "execution_count": null,
   "metadata": {},
   "outputs": [],
   "source": [
    "# plt.figure(figsize=(8,5))\n",
    "# plt.title('Confusion Matrix')\n",
    "# sns.heatmap(confusion_matrix(y_true,predict), annot=True, fmt='d')\n",
    "# plt.show()"
   ]
  },
  {
   "cell_type": "markdown",
   "metadata": {},
   "source": [
    "# Processing and training with description"
   ]
  },
  {
   "cell_type": "code",
   "execution_count": 17,
   "metadata": {},
   "outputs": [],
   "source": [
    "df.description = df.description.astype(str)"
   ]
  },
  {
   "cell_type": "code",
   "execution_count": 18,
   "metadata": {},
   "outputs": [],
   "source": [
    "df['process_description'] = df['description'].astype(str)\n",
    "df.process_description = df.process_description.apply(text_cleaning)"
   ]
  },
  {
   "cell_type": "code",
   "execution_count": null,
   "metadata": {},
   "outputs": [],
   "source": [
    "# def word_count(text):\n",
    "#     length = len(str(text).split(' '))\n",
    "#     return length\n",
    "# print('Max:',df['process_description'].apply(word_count).max())\n",
    "# print('Min:',df['process_description'].apply(word_count).min())"
   ]
  },
  {
   "cell_type": "code",
   "execution_count": null,
   "metadata": {},
   "outputs": [],
   "source": [
    "# all_string = ' '.join(df.process_description)\n",
    "# word = nltk.word_tokenize(all_string)\n",
    "# fdist = nltk.FreqDist(word)\n",
    "# word_freq = pd.DataFrame.from_dict(fdist, orient='index')\n",
    "# word_freq=  word_freq.reset_index()\n",
    "# word_freq.columns = ['word','freq']\n",
    "# word_freq = word_freq.sort_values(by = ['freq'], ascending=False)\n",
    "# pdf_cdf(word_freq.head(10000),'freq')"
   ]
  },
  {
   "cell_type": "code",
   "execution_count": 19,
   "metadata": {},
   "outputs": [
    {
     "name": "stdout",
     "output_type": "stream",
     "text": [
      "Found 63185 unique token\n"
     ]
    }
   ],
   "source": [
    "max_no_words = 10000\n",
    "max_seq_len = 50\n",
    "embedding = 100\n",
    "\n",
    "tokenizer_des = Tokenizer(num_words=max_no_words,filters='!\"#$%&()*+,-./:;<=>?@[\\]^_`{|}~', lower=True)\n",
    "tokenizer_des.fit_on_texts(df.process_description.values)\n",
    "word_index = tokenizer_des.word_index\n",
    "print('Found %s unique token'%len(word_index))"
   ]
  },
  {
   "cell_type": "code",
   "execution_count": null,
   "metadata": {},
   "outputs": [],
   "source": []
  },
  {
   "cell_type": "code",
   "execution_count": 21,
   "metadata": {},
   "outputs": [
    {
     "name": "stdout",
     "output_type": "stream",
     "text": [
      "Shape of data tensor: (95700, 50)\n"
     ]
    }
   ],
   "source": [
    "x_des = tokenizer_des.texts_to_sequences(df['process_description'].values)\n",
    "x_des = pad_sequences(x_des, maxlen=max_seq_len)\n",
    "print('Shape of data tensor:', x_des.shape)"
   ]
  },
  {
   "cell_type": "code",
   "execution_count": null,
   "metadata": {},
   "outputs": [],
   "source": [
    "# # for model description\n",
    "# y = pd.get_dummies(df['category']).values\n",
    "# print('Shape:',y.shape)"
   ]
  },
  {
   "cell_type": "code",
   "execution_count": null,
   "metadata": {},
   "outputs": [],
   "source": [
    "# from sklearn.model_selection import train_test_split\n",
    "# X_train, X_test, Y_train, Y_test = train_test_split(x,y, test_size = 0.20, \n",
    "#                                                     random_state = 42, stratify = y)\n",
    "# print('Train:',X_train.shape,Y_train.shape)\n",
    "# print('Test:',X_test.shape,Y_test.shape)"
   ]
  },
  {
   "cell_type": "code",
   "execution_count": null,
   "metadata": {},
   "outputs": [],
   "source": [
    "# model_des = Sequential()\n",
    "# model_des.add(Embedding(max_no_words, embedding, input_length=x.shape[1]))\n",
    "# model_des.add(SpatialDropout1D(0.2))\n",
    "# model_des.add(LSTM(100, dropout=0.2, recurrent_dropout=0.2))\n",
    "# model_des.add(Dense(13, activation='softmax'))\n",
    "# model_des.compile(loss='categorical_crossentropy', optimizer='adam', metrics=['accuracy'])\n",
    "\n",
    "# epochs = 5\n",
    "# batch_size = 64\n",
    "\n",
    "# history_des = model_des.fit(X_train, Y_train, epochs=epochs, batch_size=batch_size,validation_split=0.1,callbacks=[EarlyStopping(monitor='val_loss', patience=3, min_delta=0.0001)])\n"
   ]
  },
  {
   "cell_type": "code",
   "execution_count": null,
   "metadata": {},
   "outputs": [],
   "source": [
    "# accr = model_des.evaluate(X_test,Y_test)\n",
    "# print('Test set\\n  Loss: {:0.3f}\\n  Accuracy: {:0.3f}'.format(accr[0],accr[1]))"
   ]
  },
  {
   "cell_type": "code",
   "execution_count": null,
   "metadata": {},
   "outputs": [],
   "source": [
    "# plt.figure(1)\n",
    "# plt.figure(figsize=(10,5))\n",
    "# plt.subplot(221)\n",
    "# plt.title('Loss')\n",
    "# plt.plot(history_des.history['loss'], label='train')\n",
    "# plt.plot(history_des.history['val_loss'], label='test')\n",
    "# plt.legend()\n",
    "# plt.subplot(222)\n",
    "\n",
    "# plt.title('Accuracy')\n",
    "# plt.plot(history_des.history['acc'], label='train')\n",
    "# plt.plot(history_des.history['val_acc'], label='test')\n",
    "# plt.legend()\n",
    "# plt.show();"
   ]
  },
  {
   "cell_type": "code",
   "execution_count": null,
   "metadata": {},
   "outputs": [],
   "source": [
    "# model_json = model_des.to_json()\n",
    "# with open(\"model_des.json\", \"w\") as json_file:\n",
    "#     json_file.write(model_json)\n",
    "# # serialize weights to HDF5\n",
    "# model_des.save_weights(\"model_des.h5\")\n",
    "# print(\"Saved model to disk\")"
   ]
  },
  {
   "cell_type": "code",
   "execution_count": null,
   "metadata": {},
   "outputs": [],
   "source": [
    "# predict = model_des.predict_classes(X_test)"
   ]
  },
  {
   "cell_type": "code",
   "execution_count": null,
   "metadata": {},
   "outputs": [],
   "source": [
    "# y_true = np.argmax(Y_test, axis =1)"
   ]
  },
  {
   "cell_type": "code",
   "execution_count": null,
   "metadata": {},
   "outputs": [],
   "source": [
    "# plt.figure(figsize=(8,5))\n",
    "# plt.title('Confusion Matrix')\n",
    "# sns.heatmap(confusion_matrix(y_true,predict), annot=True, fmt='d')\n",
    "# plt.show()"
   ]
  },
  {
   "cell_type": "markdown",
   "metadata": {},
   "source": [
    "# Training on full dataset(title+description)"
   ]
  },
  {
   "cell_type": "code",
   "execution_count": 23,
   "metadata": {},
   "outputs": [],
   "source": [
    "#both data set has padding\n",
    "x = np.concatenate((x_title,x_des),axis =1)"
   ]
  },
  {
   "cell_type": "code",
   "execution_count": 25,
   "metadata": {},
   "outputs": [
    {
     "data": {
      "text/plain": [
       "(95700, 100)"
      ]
     },
     "execution_count": 25,
     "metadata": {},
     "output_type": "execute_result"
    }
   ],
   "source": [
    "x.shape"
   ]
  },
  {
   "cell_type": "code",
   "execution_count": 24,
   "metadata": {},
   "outputs": [
    {
     "name": "stdout",
     "output_type": "stream",
     "text": [
      "Shape: (95700, 13)\n"
     ]
    }
   ],
   "source": [
    "# for model description\n",
    "y = pd.get_dummies(df['category']).values\n",
    "print('Shape:',y.shape)"
   ]
  },
  {
   "cell_type": "code",
   "execution_count": 35,
   "metadata": {
    "collapsed": true
   },
   "outputs": [
    {
     "ename": "AxisError",
     "evalue": "axis 1 is out of bounds for array of dimension 1",
     "output_type": "error",
     "traceback": [
      "\u001b[1;31m---------------------------------------------------------------------------\u001b[0m",
      "\u001b[1;31mAxisError\u001b[0m                                 Traceback (most recent call last)",
      "\u001b[1;32m<ipython-input-35-55b11f5fc759>\u001b[0m in \u001b[0;36m<module>\u001b[1;34m\u001b[0m\n\u001b[0;32m      2\u001b[0m \u001b[0mx_title\u001b[0m \u001b[1;33m=\u001b[0m \u001b[0mtitle_tokenizer\u001b[0m\u001b[1;33m.\u001b[0m\u001b[0mtexts_to_sequences\u001b[0m\u001b[1;33m(\u001b[0m\u001b[0mdf\u001b[0m\u001b[1;33m[\u001b[0m\u001b[1;34m'new_title'\u001b[0m\u001b[1;33m]\u001b[0m\u001b[1;33m.\u001b[0m\u001b[0mvalues\u001b[0m\u001b[1;33m)\u001b[0m\u001b[1;33m\u001b[0m\u001b[0m\n\u001b[0;32m      3\u001b[0m \u001b[0mx_des\u001b[0m \u001b[1;33m=\u001b[0m \u001b[0mtokenizer_des\u001b[0m\u001b[1;33m.\u001b[0m\u001b[0mtexts_to_sequences\u001b[0m\u001b[1;33m(\u001b[0m\u001b[0mdf\u001b[0m\u001b[1;33m[\u001b[0m\u001b[1;34m'process_description'\u001b[0m\u001b[1;33m]\u001b[0m\u001b[1;33m.\u001b[0m\u001b[0mvalues\u001b[0m\u001b[1;33m)\u001b[0m\u001b[1;33m\u001b[0m\u001b[0m\n\u001b[1;32m----> 4\u001b[1;33m \u001b[0mx\u001b[0m \u001b[1;33m=\u001b[0m \u001b[0mnp\u001b[0m\u001b[1;33m.\u001b[0m\u001b[0mconcatenate\u001b[0m\u001b[1;33m(\u001b[0m\u001b[1;33m(\u001b[0m\u001b[0mx_title\u001b[0m\u001b[1;33m,\u001b[0m\u001b[0mx_des\u001b[0m\u001b[1;33m)\u001b[0m\u001b[1;33m,\u001b[0m\u001b[0maxis\u001b[0m \u001b[1;33m=\u001b[0m\u001b[1;36m1\u001b[0m\u001b[1;33m)\u001b[0m\u001b[1;33m\u001b[0m\u001b[0m\n\u001b[0m\u001b[0;32m      5\u001b[0m \u001b[0mx\u001b[0m \u001b[1;33m=\u001b[0m \u001b[0mpad_sequences\u001b[0m\u001b[1;33m(\u001b[0m\u001b[0mx\u001b[0m\u001b[1;33m,\u001b[0m \u001b[0mmaxlen\u001b[0m\u001b[1;33m=\u001b[0m\u001b[0mmax_seq_len\u001b[0m\u001b[1;33m)\u001b[0m\u001b[1;33m\u001b[0m\u001b[0m\n\u001b[0;32m      6\u001b[0m \u001b[0mprint\u001b[0m\u001b[1;33m(\u001b[0m\u001b[1;34m'Shape of data tensor:'\u001b[0m\u001b[1;33m,\u001b[0m \u001b[0mx\u001b[0m\u001b[1;33m.\u001b[0m\u001b[0mshape\u001b[0m\u001b[1;33m)\u001b[0m\u001b[1;33m\u001b[0m\u001b[0m\n",
      "\u001b[1;32m<__array_function__ internals>\u001b[0m in \u001b[0;36mconcatenate\u001b[1;34m(*args, **kwargs)\u001b[0m\n",
      "\u001b[1;31mAxisError\u001b[0m: axis 1 is out of bounds for array of dimension 1"
     ]
    }
   ],
   "source": [
    "# Don't Run\n",
    "# #single padding\n",
    "# x_title = title_tokenizer.texts_to_sequences(df['new_title'].values)\n",
    "# x_des = tokenizer_des.texts_to_sequences(df['process_description'].values)\n",
    "# x = np.concatenate((x_title,x_des),axis =1)\n",
    "# x = pad_sequences(x, maxlen=max_seq_len)\n",
    "# print('Shape of data tensor:', x.shape)"
   ]
  },
  {
   "cell_type": "code",
   "execution_count": 26,
   "metadata": {},
   "outputs": [
    {
     "name": "stdout",
     "output_type": "stream",
     "text": [
      "Train: (76560, 100) (76560, 13)\n",
      "Test: (19140, 100) (19140, 13)\n"
     ]
    }
   ],
   "source": [
    "from sklearn.model_selection import train_test_split\n",
    "X_train, X_test, Y_train, Y_test = train_test_split(x,y, test_size = 0.20, \n",
    "                                                    random_state = 42, stratify = y)\n",
    "print('Train:',X_train.shape,Y_train.shape)\n",
    "print('Test:',X_test.shape,Y_test.shape)"
   ]
  },
  {
   "cell_type": "code",
   "execution_count": 30,
   "metadata": {},
   "outputs": [
    {
     "name": "stdout",
     "output_type": "stream",
     "text": [
      "WARNING:tensorflow:From C:\\ProgramData\\Anaconda3\\lib\\site-packages\\tensorflow\\python\\ops\\math_grad.py:1250: add_dispatch_support.<locals>.wrapper (from tensorflow.python.ops.array_ops) is deprecated and will be removed in a future version.\n",
      "Instructions for updating:\n",
      "Use tf.where in 2.0, which has the same broadcast rule as np.where\n",
      "Train on 68904 samples, validate on 7656 samples\n",
      "Epoch 1/5\n",
      "68904/68904 [==============================] - 178s 3ms/step - loss: 1.0101 - acc: 0.6733 - val_loss: 0.6754 - val_acc: 0.7945\n",
      "Epoch 2/5\n",
      "68904/68904 [==============================] - 169s 2ms/step - loss: 0.5987 - acc: 0.8140 - val_loss: 0.6365 - val_acc: 0.8036\n",
      "Epoch 3/5\n",
      "68904/68904 [==============================] - 170s 2ms/step - loss: 0.5135 - acc: 0.8381 - val_loss: 0.6358 - val_acc: 0.7983\n",
      "Epoch 4/5\n",
      "68904/68904 [==============================] - 174s 3ms/step - loss: 0.4598 - acc: 0.8515 - val_loss: 0.6645 - val_acc: 0.7996\n",
      "Epoch 5/5\n",
      "68904/68904 [==============================] - 172s 2ms/step - loss: 0.4174 - acc: 0.8638 - val_loss: 0.6896 - val_acc: 0.7900\n"
     ]
    }
   ],
   "source": [
    "final_model = Sequential()\n",
    "final_model.add(Embedding(max_no_words, embedding, input_length=x.shape[1]))\n",
    "final_model.add(SpatialDropout1D(0.2))\n",
    "final_model.add(LSTM(100, dropout=0.2, recurrent_dropout=0.2))\n",
    "final_model.add(Dense(13, activation='softmax'))\n",
    "final_model.compile(loss='categorical_crossentropy', optimizer='adam', metrics=['accuracy'])\n",
    "\n",
    "epochs = 10\n",
    "batch_size = 64\n",
    "\n",
    "history_des = final_model.fit(X_train, Y_train, epochs=epochs, batch_size=batch_size,validation_split=0.1,callbacks=[EarlyStopping(monitor='val_loss', patience=3, min_delta=0.0001)])\n"
   ]
  },
  {
   "cell_type": "code",
   "execution_count": 31,
   "metadata": {},
   "outputs": [
    {
     "name": "stdout",
     "output_type": "stream",
     "text": [
      "19140/19140 [==============================] - 42s 2ms/step\n",
      "Test set\n",
      "  Loss: 0.703\n",
      "  Accuracy: 0.791\n"
     ]
    }
   ],
   "source": [
    "accr = final_model.evaluate(X_test,Y_test)\n",
    "print('Test set\\n  Loss: {:0.3f}\\n  Accuracy: {:0.3f}'.format(accr[0],accr[1]))"
   ]
  },
  {
   "cell_type": "code",
   "execution_count": 32,
   "metadata": {},
   "outputs": [
    {
     "data": {
      "text/plain": [
       "<Figure size 432x288 with 0 Axes>"
      ]
     },
     "metadata": {},
     "output_type": "display_data"
    },
    {
     "data": {
      "image/png": "[encoded data removed]",
      "text/plain": [
       "<Figure size 720x360 with 2 Axes>"
      ]
     },
     "metadata": {
      "needs_background": "light"
     },
     "output_type": "display_data"
    }
   ],
   "source": [
    "plt.figure(1)\n",
    "plt.figure(figsize=(10,5))\n",
    "plt.subplot(221)\n",
    "plt.title('Loss')\n",
    "plt.plot(history_des.history['loss'], label='train')\n",
    "plt.plot(history_des.history['val_loss'], label='test')\n",
    "plt.legend()\n",
    "plt.subplot(222)\n",
    "\n",
    "plt.title('Accuracy')\n",
    "plt.plot(history_des.history['acc'], label='train')\n",
    "plt.plot(history_des.history['val_acc'], label='test')\n",
    "plt.legend()\n",
    "plt.show();"
   ]
  },
  {
   "cell_type": "code",
   "execution_count": 33,
   "metadata": {},
   "outputs": [
    {
     "name": "stdout",
     "output_type": "stream",
     "text": [
      "Saved model to disk\n"
     ]
    }
   ],
   "source": [
    "model_json = final_model.to_json()\n",
    "with open(\"final_model.json\", \"w\") as json_file:\n",
    "    json_file.write(model_json)\n",
    "# serialize weights to HDF5\n",
    "final_model.save_weights(\"final_model.h5\")\n",
    "print(\"Saved model to disk\")"
   ]
  },
  {
   "cell_type": "code",
   "execution_count": null,
   "metadata": {},
   "outputs": [],
   "source": [
    "x_title = title_tokenizer.texts_to_sequences(df['new_title'].values)\n",
    "x_des = tokenizer_des.texts_to_sequences(df['process_description'].values)\n",
    "x = np.concatenate((x_title,x_des),axis =1)\n",
    "x = pad_sequences(x, maxlen=max_seq_len)\n",
    "print('Shape of data tensor:', x.shape)"
   ]
  },
  {
   "cell_type": "code",
   "execution_count": 34,
   "metadata": {},
   "outputs": [
    {
     "name": "stdout",
     "output_type": "stream",
     "text": [
      "Train on 68904 samples, validate on 7656 samples\n",
      "Epoch 1/10\n",
      "68904/68904 [==============================] - 86s 1ms/step - loss: 1.1469 - acc: 0.6253 - val_loss: 0.6855 - val_acc: 0.7921\n",
      "Epoch 2/10\n",
      "68904/68904 [==============================] - 85s 1ms/step - loss: 0.6201 - acc: 0.8096 - val_loss: 0.6354 - val_acc: 0.8019\n",
      "Epoch 3/10\n",
      "68904/68904 [==============================] - 85s 1ms/step - loss: 0.5270 - acc: 0.8332 - val_loss: 0.6438 - val_acc: 0.8022\n",
      "Epoch 4/10\n",
      "68904/68904 [==============================] - 85s 1ms/step - loss: 0.4681 - acc: 0.8502 - val_loss: 0.6610 - val_acc: 0.7975\n",
      "Epoch 5/10\n",
      "68904/68904 [==============================] - 85s 1ms/step - loss: 0.4275 - acc: 0.8605 - val_loss: 0.6863 - val_acc: 0.7904\n"
     ]
    }
   ],
   "source": [
    "final_model = Sequential()\n",
    "final_model.add(Embedding(max_no_words, embedding, input_length=x.shape[1]))\n",
    "final_model.add(SpatialDropout1D(0.2))\n",
    "final_model.add(LSTM(100, dropout=0.2, recurrent_dropout=0.2))\n",
    "final_model.add(Dense(13, activation='softmax'))\n",
    "final_model.compile(loss='categorical_crossentropy', optimizer='adam', metrics=['accuracy'])\n",
    "\n",
    "epochs = 10\n",
    "batch_size = 128\n",
    "\n",
    "history_des = final_model.fit(X_train, Y_train, epochs=epochs, batch_size=batch_size,validation_split=0.1,callbacks=[EarlyStopping(monitor='val_loss', patience=3, min_delta=0.0001)])\n"
   ]
  },
  {
   "cell_type": "code",
   "execution_count": null,
   "metadata": {},
   "outputs": [],
   "source": []
  }
 ],
 "metadata": {
  "kernelspec": {
   "display_name": "Python 3",
   "language": "python",
   "name": "python3"
  },
  "language_info": {
   "codemirror_mode": {
    "name": "ipython",
    "version": 3
   },
   "file_extension": ".py",
   "mimetype": "text/x-python",
   "name": "python",
   "nbconvert_exporter": "python",
   "pygments_lexer": "ipython3",
   "version": "3.6.5"
  }
 },
 "nbformat": 4,
 "nbformat_minor": 2
}
